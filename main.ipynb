{
 "cells": [
  {
   "cell_type": "code",
   "execution_count": 14,
   "metadata": {},
   "outputs": [],
   "source": [
    "from langchain_google_genai import ChatGoogleGenerativeAI\n",
    "from api import GEMINI_API_KEY\n",
    "llm = ChatGoogleGenerativeAI(model = \"gemini-2.0-flash\" , api_key = GEMINI_API_KEY)"
   ]
  },
  {
   "cell_type": "code",
   "execution_count": 1,
   "metadata": {},
   "outputs": [],
   "source": [
    "from langchain_community.document_loaders import UnstructuredURLLoader\n"
   ]
  },
  {
   "cell_type": "code",
   "execution_count": 2,
   "metadata": {},
   "outputs": [],
   "source": [
    "urls = ['https://www.victoriaonmove.com.au/local-removalists.html' , 'https://www.victoriaonmove.com.au/index.html' , 'https://www.victoriaonmove.com.au/contact.html']\n",
    "loader = UnstructuredURLLoader(urls=urls)\n",
    "data = loader.load()"
   ]
  },
  {
   "cell_type": "code",
   "execution_count": 3,
   "metadata": {},
   "outputs": [
    {
     "data": {
      "text/plain": [
       "[Document(metadata={'source': 'https://www.victoriaonmove.com.au/local-removalists.html'}, page_content='Loading...\\n\\nLOCAL REMOVALS\\n\\nYour trusted partner in seamless moving and packing solutions!\\n\\nGoogle Rating\\n\\n5 stars, 111 reviews\\n\\nRequst A call for You:\\n\\nLocal removal services via \"Victoria on move\"\\n\\nVictoria on Move is your trusted local moving company in Melbourne, specializing in seamless relocation services. As experienced furniture movers and relocation experts, we provide top-notch packing and moving services tailored to your needs. Whether you\\'re moving across town or relocating interstate, our professional movers ensure a stress-free experience. Count on Victoria on Move for reliable removal services, making us the preferred choice among local movers in Melbourne. Discover why we\\'re recognized for our commitment to quality and customer satisfaction.\\n\\nApartment Moving\\n\\nEfficient and careful relocation services tailored for apartments of all sizes, ensuring smooth transitions to your new home.\\n\\nVilla Moving\\n\\nComprehensive moving solutions for large residences and villas, handling valuable possessions with utmost care and precision.\\n\\nHousehold Moving\\n\\nFull-service moving options for households, including packing, loading, transportation, and unpacking services to simplify your move.\\n\\nOffice Moving\\n\\nSpecialized expertise in office relocations, minimizing downtime and ensuring your business operations continue seamlessly.\\n\\nFurniture Moving\\n\\nExperienced in handling furniture of all sizes and types, ensuring safe transport and setup in your new location.\\n\\nPacking and Unpacking Services\\n\\nOptional packing and unpacking services available to save you time and effort, using high-quality packing materials.\\n\\nCustomized Moving Plans\\n\\nTailored moving plans to fit your specific requirements and schedule, providing personalized service and peace of mind.\\n\\nProfessional Team\\n\\nExperienced and courteous moving professionals dedicated to delivering exceptional service and customer satisfaction throughout the entire moving process.\\n\\nFind removalists travelling to or from Melbourne\\n\\nFrom Melbourne\\n\\nTo Melbourne\\n\\nMoving from Ballarat to MelbourneMoving from Bendigo to MelbourneMoving from Geelong to MelbourneMoving from Melton to MelbourneMoving from Mildura to MelbourneMoving from Mooroopna to MelbourneMoving from Shepparton to MelbourneMoving from Sunbury to MelbourneMoving from Traralgon to MelbourneMoving from Warrnambool to MelbourneMoving from Wodonga to Melbourne\\n\\nMoving from Melbourne to BallaratMoving from Melbourne to BendigoMoving from Melbourne to GeelongMoving from Melbourne to MeltonMoving from Melbourne to MilduraMoving from Melbourne to MooroopnaMoving from Melbourne to SheppartonMoving from Melbourne to SunburyMoving from Melbourne to TraralgonMoving from Melbourne to WarrnamboolMoving from Melbourne to Wodonga\\n\\nLooking for interstate removalists Melbourne? We can also assist with interstate moves to or from Melbourne.\\n\\nGet In Touch\\n\\nWollert Victoria\\n\\n0404922328\\n\\nvictoriaonmove07@gmail.com\\n\\nQuick Links\\n\\nAbout Us Contact Us Our Services Terms & Condition\\n\\nPhoto Gallery\\n\\nCheck us out on Google!\\n\\n© Victoria On Move 2024, All Right Reserved. Designed By HTML Codex\\n\\nHome'),\n",
       " Document(metadata={'source': 'https://www.victoriaonmove.com.au/index.html'}, page_content=\"Loading...\\n\\nRelocate with confidence\\n\\nYour trusted partner in seamless moving and packing solutions!\\n\\nGoogle Rating\\n\\n5 stars, 111 reviews\\n\\nRequst A call for You:\\n\\nExplore Our Fleet\\n\\nVehicles Tailored for Your Moving Needs\\n\\nSmall Truck\\n\\nWith 2 Mover\\n\\nFrom $130/hr\\n\\n4.5 ton 20 cubic Our Small Truck can manage a student apartment, small office .\\n\\nMedium Truck\\n\\nWith 2 Mover\\n\\nFrom $145 p/hr\\n\\n6 ton 30-35 cubic\\n\\nOur Medium trucks can manage 2-3 bedroom with single lounge outdoor boxes and miscellaneous.\\n\\nLarge Truck\\n\\nWith 2 Mover\\n\\nFrom $155 p/hr\\n\\n8 ton 40 cubic Our Large trucks can handle 3-4 bedrooms with double lounge outdoor boxes and miscellaneous.\\n\\nX-Large Truck\\n\\nWith 2 Mover\\n\\nFrom $165 p/hr\\n\\n4.5 ton 20 cubic (10 ton or 50 cubic meter) Our X-Large trucks can handle 3-4 bedrooms double lounge outdoor miscellaneous items.\\n\\nOUR SERVICE\\n\\nWE OFFER QUICK & POWERFUL LOGISTICS SOLUTION\\n\\nFURNITURE REMOVALS:\\n\\nWe are the furniture removals specialists in Victoria. Our Teams are experienced and comes with Furniture moving equipments like- Trolleys. Blankets, Loading Ramps.\\n\\nINSURANCE:\\n\\nVictoria On Move Pvt Ltd. look after your goods arrive safely at your destination. We have Transit and Public liability insurance. Transit insurance covers loading and unloading from vehicle , and Road accident cover.\\n\\n1 BED HOME:\\n\\n1 Bed, Mattress, Tall Boy, Bedside, Refrigerator, Washing Machine, Some Boxes.\\n\\n2 BED HOME:\\n\\n2 Beds, Mattress, Tall Boy, Bedside, Refrigerator, Washing Machine,Dresser, Barbeque, Some Boxes, Loose stuff.\\n\\nBig HOME:\\n\\n4-5 Bed Room, Double Lounge, Mattress, Tall Boy, Bedside, Refrigerator, Washing Machine,Dresser, Barbeque, Some Boxes,Furniture, Loose stuff. Get a Quote\\n\\nInterstate Removalists:\\n\\nSeamless Relocation Across State Lines\\n\\nMelbourne to Sydney Removalists\\n\\nBook Now\\n\\nMelbourne to Brisbane Removalists\\n\\nBook Now\\n\\nMelbourne to Adelaide Removalists\\n\\nBook Now\\n\\nMelbourne to Canberra Removalists\\n\\nBook Now\\n\\nOUR MOVING WORK & ETHICS\\n\\nMoving house furniture is an art that comes with experience and a steadfast commitment to our customers' needs. It's a challenging industry, and not everyone survives for long without the expertise and dedication that we bring to every job. Our long history as Removalists in Melbourne is a testament to our sincerity and hard work.\\n\\nUnlike some other moving companies, we value the trust our customers place in us. Our customer reviews on Google are genuine, and we never manipulate them. We trust in our quality and experience and believe in our destiny to provide top-notch moving and packing services to our clients.\\n\\nContact Us\\n\\nOur Clients Say!\\n\\nDiscover firsthand experiences from our valued clients through their heartfelt testimonials. From seamless moves to exceptional service, our customers share how we've made their relocation journey stress-free and rewarding. Explore their stories and see why they trust us with their moves time and again.\\n\\nGet In Touch\\n\\nWollert Victoria\\n\\n0404922328\\n\\nvictoriaonmove07@gmail.com\\n\\nQuick Links\\n\\nAbout Us Contact Us Our Services Terms & Condition\\n\\nPhoto Gallery\\n\\nCheck us out on Google!\\n\\n© Victoria On Move 2024, All Right Reserved. Designed By HTML Codex\\n\\nHome\"),\n",
       " Document(metadata={'source': 'https://www.victoriaonmove.com.au/contact.html'}, page_content='Loading...\\n\\nContact Us\\n\\nYou can contact us any way that is convenient for you. We are available 24/7 via fax or email. You can also use a quick contact form below or visit our office personally. We would be happy to answer your questions.\\n\\nWollert Victoria\\n\\nvictoriaonmove07@gmail.com\\n\\n0404922328\\n\\nFind removalists travelling interstate to or from Sydney\\n\\nFrom Sydney\\n\\nTo Sydney\\n\\nMoving from Adelaide to SydneyMoving from Ballarat to SydneyMoving from Bendigo to SydneyMoving from Brisbane to SydneyMoving from Cairns to SydneyMoving from Canberra to SydneyMoving from Darwin to SydneyMoving from Geelong to SydneyMoving from Gold Coast to SydneyMoving from Hobart to SydneyMoving from Melbourne to SydneyMoving from Perth to SydneyMoving from Tasmania to Sydney\\n\\nMoving from Sydney to AdelaideMoving from Sydney to BallaratMoving from Sydney to BendigoMoving from Sydney to BrisbaneMoving from Sydney to BunburyMoving from Sydney to BundabergMoving from Sydney to CairnsMoving from Sydney to CanberraMoving from Sydney to DarwinMoving from Sydney to DevonportMoving from Sydney to Fraser CoastMoving from Sydney to GeelongMoving from Sydney to GeraldtonMoving from Sydney to GladstoneMoving from Sydney to Gold CoastMoving from Sydney to Hervey BayMoving from Sydney to HobartMoving from Sydney to LauncestonMoving from Sydney to MackayMoving from Sydney to MandurahMoving from Sydney to MelbourneMoving from Sydney to MeltonMoving from Sydney to PerthMoving from Sydney to RockhamptonMoving from Sydney to SheppartonMoving from Sydney to Sunshine CoastMoving from Sydney to TasmaniaMoving from Sydney to ToowoombaMoving from Sydney to TownsvilleMoving from Sydney to TraralgonMoving from Sydney to Warrnambool\\n\\nIf you are in need of local removalists services in Sydney we can also help with professional movers for local moves.\\n\\nGet In Touch\\n\\nWollert Victoria\\n\\n0404922328\\n\\nvictoriaonmove07@gmail.com\\n\\nQuick Links\\n\\nAbout Us Contact Us Our Services Terms & Condition\\n\\nPhoto Gallery\\n\\nCheck us out on Google!\\n\\n© Victoria On Move 2024, All Right Reserved. Designed By HTML Codex\\n\\nHome')]"
      ]
     },
     "execution_count": 3,
     "metadata": {},
     "output_type": "execute_result"
    }
   ],
   "source": [
    "data"
   ]
  },
  {
   "cell_type": "code",
   "execution_count": 4,
   "metadata": {},
   "outputs": [
    {
     "name": "stdout",
     "output_type": "stream",
     "text": [
      "Total number of documents : 11\n"
     ]
    }
   ],
   "source": [
    "from langchain.text_splitter import RecursiveCharacterTextSplitter\n",
    "\n",
    "text_splitter = RecursiveCharacterTextSplitter(chunk_size = 1000)\n",
    "docs = text_splitter.split_documents(data)\n",
    "\n",
    "\n",
    "print(f'Total number of documents : {len(docs)}')"
   ]
  },
  {
   "cell_type": "code",
   "execution_count": 5,
   "metadata": {},
   "outputs": [
    {
     "name": "stderr",
     "output_type": "stream",
     "text": [
      "/tmp/ipykernel_8135/3077754740.py:2: LangChainDeprecationWarning: The class `HuggingFaceEmbeddings` was deprecated in LangChain 0.2.2 and will be removed in 1.0. An updated version of the class exists in the :class:`~langchain-huggingface package and should be used instead. To use it run `pip install -U :class:`~langchain-huggingface` and import as `from :class:`~langchain_huggingface import HuggingFaceEmbeddings``.\n",
      "  embeddings = HuggingFaceEmbeddings()\n",
      "/tmp/ipykernel_8135/3077754740.py:2: LangChainDeprecationWarning: Default values for HuggingFaceEmbeddings.model_name were deprecated in LangChain 0.2.16 and will be removed in 0.4.0. Explicitly pass a model_name to the HuggingFaceEmbeddings constructor instead.\n",
      "  embeddings = HuggingFaceEmbeddings()\n",
      "/home/haseeb/WorkFolder/GenAI/DSwithBappy/lib/python3.10/site-packages/tqdm/auto.py:21: TqdmWarning: IProgress not found. Please update jupyter and ipywidgets. See https://ipywidgets.readthedocs.io/en/stable/user_install.html\n",
      "  from .autonotebook import tqdm as notebook_tqdm\n",
      "2025-02-26 10:10:39.771168: E external/local_xla/xla/stream_executor/cuda/cuda_fft.cc:477] Unable to register cuFFT factory: Attempting to register factory for plugin cuFFT when one has already been registered\n",
      "WARNING: All log messages before absl::InitializeLog() is called are written to STDERR\n",
      "E0000 00:00:1740546639.968031    8135 cuda_dnn.cc:8310] Unable to register cuDNN factory: Attempting to register factory for plugin cuDNN when one has already been registered\n",
      "E0000 00:00:1740546640.023716    8135 cuda_blas.cc:1418] Unable to register cuBLAS factory: Attempting to register factory for plugin cuBLAS when one has already been registered\n",
      "2025-02-26 10:10:40.597287: I tensorflow/core/platform/cpu_feature_guard.cc:210] This TensorFlow binary is optimized to use available CPU instructions in performance-critical operations.\n",
      "To enable the following instructions: AVX2 FMA, in other operations, rebuild TensorFlow with the appropriate compiler flags.\n"
     ]
    }
   ],
   "source": [
    "from langchain.embeddings import HuggingFaceEmbeddings\n",
    "embeddings = HuggingFaceEmbeddings()"
   ]
  },
  {
   "cell_type": "code",
   "execution_count": 6,
   "metadata": {},
   "outputs": [],
   "source": [
    "from langchain_chroma import Chroma\n",
    "vectorstore = Chroma.from_documents(documents= docs , embedding=embeddings)"
   ]
  },
  {
   "cell_type": "code",
   "execution_count": 7,
   "metadata": {},
   "outputs": [],
   "source": [
    "retriver = vectorstore.as_retriever(search_type = 'similarity'  , search_kwargs = {'k' : 3})"
   ]
  },
  {
   "cell_type": "code",
   "execution_count": 8,
   "metadata": {},
   "outputs": [],
   "source": [
    "res = retriver.invoke(\"what kind of service they provide ?\")"
   ]
  },
  {
   "cell_type": "code",
   "execution_count": 9,
   "metadata": {},
   "outputs": [
    {
     "data": {
      "text/plain": [
       "3"
      ]
     },
     "execution_count": 9,
     "metadata": {},
     "output_type": "execute_result"
    }
   ],
   "source": [
    "len(res)"
   ]
  },
  {
   "cell_type": "code",
   "execution_count": 10,
   "metadata": {},
   "outputs": [
    {
     "data": {
      "text/plain": [
       "[Document(id='defa821c-4309-432b-8987-5ba452219aa2', metadata={'source': 'https://www.victoriaonmove.com.au/local-removalists.html'}, page_content='Apartment Moving\\n\\nEfficient and careful relocation services tailored for apartments of all sizes, ensuring smooth transitions to your new home.\\n\\nVilla Moving\\n\\nComprehensive moving solutions for large residences and villas, handling valuable possessions with utmost care and precision.\\n\\nHousehold Moving\\n\\nFull-service moving options for households, including packing, loading, transportation, and unpacking services to simplify your move.\\n\\nOffice Moving\\n\\nSpecialized expertise in office relocations, minimizing downtime and ensuring your business operations continue seamlessly.\\n\\nFurniture Moving\\n\\nExperienced in handling furniture of all sizes and types, ensuring safe transport and setup in your new location.\\n\\nPacking and Unpacking Services\\n\\nOptional packing and unpacking services available to save you time and effort, using high-quality packing materials.\\n\\nCustomized Moving Plans'),\n",
       " Document(id='6f8471f5-6ac9-4fd8-b76b-ca311469f216', metadata={'source': 'https://www.victoriaonmove.com.au/index.html'}, page_content=\"Contact Us\\n\\nOur Clients Say!\\n\\nDiscover firsthand experiences from our valued clients through their heartfelt testimonials. From seamless moves to exceptional service, our customers share how we've made their relocation journey stress-free and rewarding. Explore their stories and see why they trust us with their moves time and again.\\n\\nGet In Touch\\n\\nWollert Victoria\\n\\n0404922328\\n\\nvictoriaonmove07@gmail.com\\n\\nQuick Links\\n\\nAbout Us Contact Us Our Services Terms & Condition\\n\\nPhoto Gallery\\n\\nCheck us out on Google!\\n\\n© Victoria On Move 2024, All Right Reserved. Designed By HTML Codex\\n\\nHome\"),\n",
       " Document(id='c3c9041f-cf3f-4d29-835a-4e2bf88a486b', metadata={'source': 'https://www.victoriaonmove.com.au/local-removalists.html'}, page_content='Packing and Unpacking Services\\n\\nOptional packing and unpacking services available to save you time and effort, using high-quality packing materials.\\n\\nCustomized Moving Plans\\n\\nTailored moving plans to fit your specific requirements and schedule, providing personalized service and peace of mind.\\n\\nProfessional Team\\n\\nExperienced and courteous moving professionals dedicated to delivering exceptional service and customer satisfaction throughout the entire moving process.\\n\\nFind removalists travelling to or from Melbourne\\n\\nFrom Melbourne\\n\\nTo Melbourne\\n\\nMoving from Ballarat to MelbourneMoving from Bendigo to MelbourneMoving from Geelong to MelbourneMoving from Melton to MelbourneMoving from Mildura to MelbourneMoving from Mooroopna to MelbourneMoving from Shepparton to MelbourneMoving from Sunbury to MelbourneMoving from Traralgon to MelbourneMoving from Warrnambool to MelbourneMoving from Wodonga to Melbourne')]"
      ]
     },
     "execution_count": 10,
     "metadata": {},
     "output_type": "execute_result"
    }
   ],
   "source": [
    "res"
   ]
  },
  {
   "cell_type": "code",
   "execution_count": 11,
   "metadata": {},
   "outputs": [],
   "source": [
    "from langchain.chains import create_retrieval_chain\n",
    "from langchain.chains.combine_documents import create_stuff_documents_chain\n",
    "from langchain.prompts import ChatPromptTemplate\n",
    "\n",
    "\n",
    "system_prompt = (\n",
    "    \"You are helful assistant for question answering task.\"\n",
    "    \"Use the following pieces of retrived context to answer \"\n",
    "    \"the question. if you don't know the answer say that you\"\n",
    "    \"don't know. Use three sentences maximum and keep the \"\n",
    "    \"answer concise\"\n",
    "    \"\\n\\n\"\n",
    "    \"{context}\"\n",
    ")\n",
    "\n",
    "\n",
    "prompt = ChatPromptTemplate.from_messages(\n",
    "    [\n",
    "        (\"system\" , system_prompt),\n",
    "        (\"human\" , \"{input}\"),\n",
    "    ]\n",
    ")"
   ]
  },
  {
   "cell_type": "code",
   "execution_count": 15,
   "metadata": {},
   "outputs": [],
   "source": [
    "questionAnswerChain = create_stuff_documents_chain(llm , prompt)\n",
    "rag_chain = create_retrieval_chain(retriver , questionAnswerChain)"
   ]
  },
  {
   "cell_type": "code",
   "execution_count": 16,
   "metadata": {},
   "outputs": [
    {
     "name": "stdout",
     "output_type": "stream",
     "text": [
      "They provide apartment, villa, household, and office moving services. They also specialize in furniture moving and offer optional packing and unpacking services. Customized moving plans are available to fit specific requirements.\n"
     ]
    }
   ],
   "source": [
    "response = rag_chain.invoke({\"input\" : \"What kind of services they provide ? \"})\n",
    "print(response['answer'])"
   ]
  }
 ],
 "metadata": {
  "kernelspec": {
   "display_name": "beebaQA",
   "language": "python",
   "name": "python3"
  },
  "language_info": {
   "codemirror_mode": {
    "name": "ipython",
    "version": 3
   },
   "file_extension": ".py",
   "mimetype": "text/x-python",
   "name": "python",
   "nbconvert_exporter": "python",
   "pygments_lexer": "ipython3",
   "version": "3.10.12"
  }
 },
 "nbformat": 4,
 "nbformat_minor": 2
}
